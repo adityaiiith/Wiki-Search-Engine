{
  "nbformat": 4,
  "nbformat_minor": 0,
  "metadata": {
    "colab": {
      "name": "Wikipedia_Search_Engine.ipynb",
      "provenance": [],
      "collapsed_sections": []
    },
    "kernelspec": {
      "name": "python3",
      "display_name": "Python 3"
    }
  },
  "cells": [
    {
      "cell_type": "markdown",
      "metadata": {
        "id": "fm7jY8zdNTjs"
      },
      "source": [
        "# Indexing and **Merging**"
      ]
    },
    {
      "cell_type": "code",
      "metadata": {
        "id": "oVDQRKA7HlGC"
      },
      "source": [
        "def t(x):\n",
        "    if x > 5:\n",
        "        i = 0\n",
        "        j = 50\n",
        "        a = 3.737483274267\n",
        "        b = 7.268934857394\n",
        "        return np.subtract(b,a)*(np.subtract(x,i)/np.subtract(j,i)) + a\n",
        "    elif x < 1:\n",
        "        return x+1\n",
        "    else:\n",
        "        return x"
      ],
      "execution_count": null,
      "outputs": []
    },
    {
      "cell_type": "code",
      "metadata": {
        "id": "4MYTduXvHpjQ"
      },
      "source": [
        ""
      ],
      "execution_count": null,
      "outputs": []
    },
    {
      "cell_type": "code",
      "metadata": {
        "id": "g5Dm9-MuHqLq"
      },
      "source": [
        ""
      ],
      "execution_count": null,
      "outputs": []
    },
    {
      "cell_type": "code",
      "metadata": {
        "id": "upmfswBEHqI8"
      },
      "source": [
        ""
      ],
      "execution_count": null,
      "outputs": []
    },
    {
      "cell_type": "code",
      "metadata": {
        "id": "opyssbi1Cy4p",
        "outputId": "8a97b4a6-ade2-4449-e658-606c9a7855bd",
        "colab": {
          "base_uri": "https://localhost:8080/",
          "height": 136
        }
      },
      "source": [
        "#importing packages\n",
        "from os import listdir\n",
        "from os.path import isfile, join\n",
        "import os,sys,gc\n",
        "import xml.sax\n",
        "from nltk.corpus import stopwords \n",
        "from nltk import word_tokenize\n",
        "import nltk\n",
        "nltk.download(\"stopwords\")\n",
        "from nltk.stem import SnowballStemmer\n",
        "import timeit,time\n",
        "from collections import defaultdict\n",
        "import re, string, unicodedata\n",
        "import glob\n",
        "from heapq import heapify, heappush, heappop\n",
        "gc.disable()\n",
        "stemmer = SnowballStemmer('english')\n",
        "stop_words = frozenset(stopwords.words('english')) \n",
        "InvertedIndex = defaultdict(lambda:defaultdict(lambda:defaultdict(int)))\n",
        "Stem_Words = {}\n",
        "Inverted_Index_File_No = 1\n",
        "index_word_count = 0\n",
        "Doc_Limit = 15000\n",
        "\n",
        "def remove_punctuation(data):\n",
        "    Reg_Exp = re.compile(r'[.,;_()\"/\\']',re.DOTALL)\n",
        "    data = Reg_Exp.sub('',data)\n",
        "    return data\n",
        "    \n",
        "def remove_junk(data):\n",
        "    Reg_Exp = re.compile(r\"[~`!@#$%\\-\\^=\\*+{\\[}\\]\\|\\\\<>\\?]\",re.DOTALL)\n",
        "    data = Reg_Exp.sub('',data)\n",
        "    return data\n",
        "\n",
        "def tokenize(data): \n",
        "    global stemmer\n",
        "    global corpus_word_count\n",
        "    tokens = data.split()\n",
        "    corpus_word_count = corpus_word_count + len(tokens)\n",
        "    words = []\n",
        "    # remove all non-alphanumeric tokens\n",
        "    for word in tokens:\n",
        "        word = re.sub(r'[^\\x00-\\x7F]+','', word)\n",
        "        if len(word) < 200 and word.isalnum() and word not in stop_words:\n",
        "            if word in Stem_Words.keys():\n",
        "                temp_word = Stem_Words[word]\n",
        "            else:\n",
        "                temp_word = stemmer.stem(word)\n",
        "                Stem_Words[word] = temp_word\n",
        "            if len(temp_word) > 2:\n",
        "                words.append(temp_word)\n",
        "    return words\n",
        "\n",
        "def Insert_To_Inverted_Index(data, doc_id, tag):\n",
        "    for word in data:\n",
        "        word = re.sub(r'[^\\x00-\\x7F]+','', word)\n",
        "        if len(word) > 2 and len(word) < 200:\n",
        "            if(word in InvertedIndex):\n",
        "                if(doc_id in InvertedIndex[word]):\n",
        "                    if(tag in InvertedIndex[word][doc_id]):\n",
        "                        InvertedIndex[word][doc_id][tag] += 1\n",
        "                    else:\n",
        "                        InvertedIndex[word][doc_id][tag] = 1\n",
        "                else:\n",
        "                    InvertedIndex[word][doc_id] = {tag:1}\n",
        "            else:\n",
        "                InvertedIndex[word] = dict({doc_id:{tag:1}})\n",
        "\n",
        "def Data_Processing(data, docID, tag):\n",
        "    global Inverted_Index_File_No\n",
        "    global index_word_count\n",
        "    global indexpath    \n",
        "    data = data.lower()\n",
        "\n",
        "    # Remove URL\n",
        "    Reg_Exp = re.compile(r'http[s]?://(?:[a-zA-Z]|[0-9]|[$-_@.&+]|[!*\\(\\),]|(?:%[0-9a-fA-F][0-9a-fA-F]))+',re.DOTALL)\n",
        "    data = Reg_Exp.sub('',data)\n",
        "\n",
        "    # Remove CSS\n",
        "    Reg_Exp = re.compile(r'{\\|(.*?)\\|}',re.DOTALL)\n",
        "    data = Reg_Exp.sub('',data)\n",
        "\n",
        "    # Remove [[file\n",
        "    Reg_Exp = re.compile(r'\\[\\[file:(.*?)\\]\\]',re.DOTALL)\n",
        "    data = Reg_Exp.sub('',data)\n",
        "\n",
        "    # Remove Cite \n",
        "    Reg_Exp = re.compile(r'{{v?cite(.*?)}}',re.DOTALL)\n",
        "    data = Reg_Exp.sub('',data)\n",
        "\n",
        "    # Remove Tag\n",
        "    Reg_Exp = re.compile(r'<(.*?)>',re.DOTALL)\n",
        "    data = Reg_Exp.sub('',data)\n",
        "\n",
        "    if(tag == 'title'):\n",
        "        # Remove junk\n",
        "        Reg_Exp = re.compile(r\"[~`!@#$%\\-\\^=\\*+{\\[}\\]\\|\\\\<>\\?]\",re.DOTALL)\n",
        "        data = Reg_Exp.sub('',data)\n",
        "\n",
        "        # Remove punctuation\n",
        "        Reg_Exp = re.compile(r'[.,;_()\"/\\']',re.DOTALL)\n",
        "        data = Reg_Exp.sub('',data)\n",
        "        data = tokenize(data)\n",
        "        Insert_To_Inverted_Index(data,docID,\"t\")\n",
        "    elif(tag == 'text'):\n",
        "        # Fetch categories\n",
        "        categories = []\n",
        "        categories = re.findall(r'\\[\\[category:(.*?)\\]\\]',data,flags=re.MULTILINE)\n",
        "\n",
        "        # Fetch infobox\n",
        "        infobox = []\n",
        "        infobox = re.findall(r\"{{infobox(.*?)}}\",data,flags=re.DOTALL)\n",
        "        \n",
        "        # Fetch references\n",
        "        references = []\n",
        "        references = re.findall(r'== ?references ?==(.*?)==',data,flags=re.DOTALL)\n",
        "        \n",
        "        # Fetch external_links\n",
        "        external_links = []\n",
        "        Index = 0\n",
        "        try:\n",
        "            Index = text.index('==external links==')\n",
        "            Index += 20\n",
        "        except:\n",
        "            pass\n",
        "\n",
        "        if(Index):\n",
        "            external_links = data[Index:]\n",
        "            external_links = re.findall(r'\\*\\[(.*?)\\]',external_links,flags=re.MULTILINE)\n",
        "\n",
        "        if(Index):\n",
        "            data = data[0:Index - 20]\n",
        "\n",
        "        Reg_Exp = re.compile(r'{{infobox(.*?)}}',re.DOTALL)\n",
        "        data = Reg_Exp.sub('',data)\n",
        "\n",
        "        Reg_Exp = re.compile(r'== ?references ?==(.*?)==',re.DOTALL)\n",
        "        data = Reg_Exp.sub('',data)\n",
        "\n",
        "        Reg_Exp = re.compile(r'{{(.*?)}}',re.DOTALL)\n",
        "        data = Reg_Exp.sub('',data)\n",
        "\n",
        "        Reg_Exp = re.compile(r'[.,;_()\"/\\']',re.DOTALL)\n",
        "        data = Reg_Exp.sub('',data)\n",
        "\n",
        "        Reg_Exp = re.compile(r\"[~`!@#$%\\-\\^=\\*+{\\[}\\]\\|\\\\<>\\?]\",re.DOTALL)\n",
        "        data = Reg_Exp.sub('',data)\n",
        "\n",
        "        #Tokenize, stem, remove stop words and non ascii characters\n",
        "\n",
        "        data = tokenize(data)\n",
        "\n",
        "        Insert_To_Inverted_Index(data,docID,\"b\")\n",
        "\n",
        "        categories = ' '.join(categories)\n",
        "        categories = remove_punctuation(categories)\n",
        "        categories = remove_junk(categories)\n",
        "        categories = tokenize(categories)\n",
        "        Insert_To_Inverted_Index(categories,docID,\"c\")\n",
        "\n",
        "        references = ' '.join(references)\n",
        "        references = remove_punctuation(references)\n",
        "        references = remove_junk(references)\n",
        "        references = tokenize(references)\n",
        "        Insert_To_Inverted_Index(references,docID,\"r\")\n",
        "\n",
        "        external_links = ' '.join(external_links)\n",
        "        external_links = remove_punctuation(external_links)\n",
        "        external_links = remove_junk(external_links)\n",
        "        external_links = tokenize(external_links)\n",
        "        Insert_To_Inverted_Index(external_links,docID,\"e\")\n",
        "\n",
        "        for infoList in infobox:\n",
        "            infoboxList = []\n",
        "            # print(type(infoList))\n",
        "            infoboxList = re.findall(r'=(.*?)\\|',infoList,re.DOTALL)\n",
        "            infoboxList = ' '.join(infoboxList)\n",
        "            infoboxList = remove_punctuation(infoboxList)\n",
        "            infoboxList = remove_junk(infoboxList)\n",
        "            infoboxList = tokenize(infoboxList)\n",
        "            Insert_To_Inverted_Index(infoboxList,docID,\"i\")\n",
        "\n",
        "        if docID % Doc_Limit == 0:\n",
        "            f = open(indexpath + '/' + 'IndexChunk' + str(Inverted_Index_File_No) + '.txt' ,\"w\")\n",
        "            for key,val in sorted(InvertedIndex.items()):\n",
        "                key += \"=\"\n",
        "                for k,v in sorted(val.items()):\n",
        "                    key += str(k) + \":\"\n",
        "                    for k1,v1 in v.items():\n",
        "                        key = key + str(k1) + str(v1) + \"#\"\n",
        "                    key = key[:-1]+\",\"\n",
        "                key = key[:-1]+\"\\n\"\n",
        "                index_word_count = index_word_count + 1\n",
        "                f.write(key)\n",
        "            f.close()\n",
        "            InvertedIndex.clear()\n",
        "            Stem_Words.clear()\n",
        "            Inverted_Index_File_No += 1\n",
        "\n",
        "def writeToPrimary():\n",
        "    global indexFileCount\n",
        "    offset = list()\n",
        "    firstWord = True\n",
        "    indexFileCount += 1\n",
        "    # yaha par shayad\n",
        "    fileName = folderToStore + \"/\" +\"index\" + str(indexFileCount) + \".txt\"\n",
        "    fp = open(fileName,\"w\")\n",
        "    for i in sorted(invertedIndex):\n",
        "      if firstWord:\n",
        "        secondaryIndex[i] = indexFileCount\n",
        "        firstWord = False\n",
        "      toWrite = str(i) + \"=\" + invertedIndex[i] + \"\\n\"\n",
        "      fp.write(toWrite)\n",
        "\n",
        "def writeToSecondary():\n",
        "    fileName = folderToStore + \"/\" + \"secondaryIndex.txt\"\n",
        "    fp = open(fileName,\"w\")\n",
        "    for i in sorted(secondaryIndex):\n",
        "      toWrite = str(i) + \" \" + str(secondaryIndex[i]) + \"\\n\"\n",
        "      fp.write(toWrite)                \n",
        "\n",
        "class DataHandler( xml.sax.ContentHandler ):\n",
        "    def __init__(self):\n",
        "        self.DocId = 0\n",
        "        self.CurrentData = \"\"\n",
        "        self.title = \"\"\n",
        "        self.id = \"\"\n",
        "        self.text = \"\"\n",
        "        self.id_flag = False\n",
        "\n",
        "    def startElement(self, tag, attributes):\n",
        "        self.CurrentData = tag\n",
        "        if tag == \"page\":\n",
        "            self.id_flag = True\n",
        "            self.DocId += 1\n",
        "\n",
        "    def endElement(self, tag):\n",
        "        global f2\n",
        "        if self.CurrentData == \"title\":\n",
        "            f2.write(str(self.DocId)+\"==\"+self.title+\"\\n\")\n",
        "            Data_Processing(self.title,self.DocId,\"title\")\n",
        "        elif self.CurrentData == \"text\":\n",
        "            Data_Processing(self.text,self.DocId,\"text\")\n",
        "        elif self.CurrentData == \"id\" and self.id_flag == True:\n",
        "            self.id_flag = False\n",
        "\n",
        "        self.CurrentData = \"\"\n",
        "        self.id = \"\"\n",
        "        self.text = \"\"\n",
        "        self.title = \"\"\n",
        "\n",
        "    def characters(self, content):\n",
        "        if self.CurrentData == \"title\":\n",
        "            self.title = self.title + content\n",
        "        elif self.CurrentData == \"text\":\n",
        "            self.text = self.text + content\n",
        "        elif self.CurrentData == \"id\" and self.id_flag == True:\n",
        "            self.id = self.id + content\n",
        "            \n",
        "if ( __name__ == \"__main__\"):\n",
        "    # global index_word_count\n",
        "    mypath = \"/content/drive/My Drive/IRE_Mini_Project/PHASE-2-UNZIPPED\"\n",
        "    allfiles = [mypath +'/'+ f for f in listdir(mypath) if isfile(join(mypath, f))]\n",
        "    # dumpfile = sys.argv[1]\n",
        "    #dumpfile = \"/content/drive/My Drive/IRE_Mini_Project/testing\"\n",
        "        \n",
        "    # # indexpath = sys.argv[2]\n",
        "    indexpath = \"/content/drive/My Drive/IRE_Mini_Project/testing\"\n",
        "    # stat_path = sys.argv[3]\n",
        "    corpus_word_count = 0\n",
        "    # f3 = open(stat_path,\"w\")\n",
        "    f2 = open('/content/drive/My Drive/IRE_Mini_Project/testing/id-title.txt',\"w\")\n",
        "    parser = xml.sax.make_parser()\n",
        "    parser.setFeature(xml.sax.handler.feature_namespaces, 0)\n",
        "    start_time = time.time()\n",
        "    Handler = DataHandler()\n",
        "    parser.setContentHandler(Handler)\n",
        "\n",
        "    for dumpfile in allfiles:\n",
        "        parser.parse(dumpfile)\n",
        "        f = open(indexpath + '/' + 'IndexChunk' + str(Inverted_Index_File_No) + '.txt' ,\"w\")\n",
        "        for key,val in sorted(InvertedIndex.items()):\n",
        "            stt = \"\"\n",
        "            stt = key + \"=\"\n",
        "            for k,v in sorted(val.items()):\n",
        "                stt += str(k) + \":\"\n",
        "                for k1,v1 in v.items():\n",
        "                    stt = stt + str(k1) + str(v1) + \"#\"\n",
        "                stt = stt[:-1]+\",\"\n",
        "            stt = stt[:-1]+\"\\n\"\n",
        "            index_word_count = index_word_count + 1\n",
        "            f.write(stt)\n",
        "\n",
        "    f.close()\n",
        "    f2.close()\n",
        "    mid_time = time.time()\n",
        "\n",
        "    #MERGING PART\n",
        "\n",
        "    folderToStore = \"/content/drive/My Drive/IRE_Mini_Project/result_testing\"\n",
        "    indexFileCount = 0\n",
        "    secondaryIndex = dict()\n",
        "    chunkSize = 1000000\n",
        "    total_token_count = 0\n",
        "    indexFiles = glob.glob(\"/content/drive/My Drive/IRE_Mini_Project/testing/IndexChunk*\")\n",
        "    # primaryIndex = open(\"/content/drive/My Drive/IRE_Mini_Project/PHASE-1-UNZIPPED/primary_index.txt\",\"w\")\n",
        "    completedFiles = [0] * len(indexFiles)\n",
        "    filePointers = dict()\n",
        "    currentRowOfFile = dict()\n",
        "    percolator = list()\n",
        "    words = dict()\n",
        "    total = 0\n",
        "    invertedIndex = defaultdict()\n",
        "\n",
        "    fileCount = 0\n",
        "    for i in range(len(indexFiles)):\n",
        "        completedFiles[i] = 1\n",
        "        try:\n",
        "          filePointers[i] = open(indexFiles[i],\"r\")\n",
        "          fileCount += 1\n",
        "        except:\n",
        "          print(\"Could Open Files: \",fileCount)\n",
        "        currentRowOfFile[i] = filePointers[i].readline()\n",
        "        words[i] = currentRowOfFile[i].strip().split(\"=\")\n",
        "        if words[i][0] not in percolator:\n",
        "          heappush(percolator,words[i][0])\n",
        "\n",
        "    while True:\n",
        "        if completedFiles.count(0) == len(indexFiles):\n",
        "          break\n",
        "        else:\n",
        "          total += 1\n",
        "          word = heappop(percolator)\n",
        "          for i in range(len(indexFiles)):\n",
        "            if completedFiles[i] and words[i][0] == word:\n",
        "              if word in invertedIndex:\n",
        "                if len(words[i]) > 1:\n",
        "                  invertedIndex[word] += \",\" + words[i][1]\n",
        "              else:\n",
        "                if len(words[i]) > 1:\n",
        "                  invertedIndex[word] = words[i][1]\n",
        "\n",
        "              if total == chunkSize:\n",
        "                total_token_count += total\n",
        "                total = 0\n",
        "                writeToPrimary()\n",
        "                invertedIndex.clear()\n",
        "\n",
        "              currentRowOfFile[i] = filePointers[i].readline().strip()\n",
        "\n",
        "              if currentRowOfFile[i]:\n",
        "                words[i] = currentRowOfFile[i].split(\"=\")\n",
        "                if words[i][0] not in percolator:\n",
        "                  heappush(percolator,words[i][0])\n",
        "              else:\n",
        "                completedFiles[i] = 0\n",
        "                filePointers[i].close()\n",
        "                # os.remove(indexFiles[i])\n",
        "\n",
        "    writeToPrimary()\n",
        "    writeToSecondary()\n",
        "    end_time = time.time()\n",
        "    gc.enable()\n",
        "    print(\"Index Word Count : \",index_word_count)\n",
        "    print(\"Total token Count : \",total_token_count)\n",
        "    idc = float(mid_time-start_time)/60\n",
        "    print(\"Index creation time : \",idc)\n",
        "    mt = float(end_time-mid_time)/60\n",
        "    print(\"Merging time : \",mt)\n",
        "    total_time = idc+mt\n",
        "    print(\"Total time : \",total_time)"
      ],
      "execution_count": null,
      "outputs": [
        {
          "output_type": "stream",
          "text": [
            "[nltk_data] Downloading package stopwords to /root/nltk_data...\n",
            "[nltk_data]   Package stopwords is already up-to-date!\n",
            "Index Word Count :  133412185\n",
            "Total token Count :  29000000\n",
            "Index creation time :  391.27358833154045\n",
            "Merging time :  80.15703924099604\n",
            "Total time :  471.4306275725365\n"
          ],
          "name": "stdout"
        }
      ]
    },
    {
      "cell_type": "code",
      "metadata": {
        "id": "1E1CveCzHi5N"
      },
      "source": [
        ""
      ],
      "execution_count": null,
      "outputs": []
    },
    {
      "cell_type": "markdown",
      "metadata": {
        "id": "theuL9NIeHRi"
      },
      "source": [
        "# Search"
      ]
    },
    {
      "cell_type": "code",
      "metadata": {
        "id": "EfZaUXWVTGjI",
        "outputId": "ccac71af-4613-42e2-fa48-83f7b078184e",
        "colab": {
          "base_uri": "https://localhost:8080/",
          "height": 52
        }
      },
      "source": [
        "from bisect import bisect\n",
        "from math import log10\n",
        "from operator import itemgetter\n",
        "import os,sys,gc,mmap\n",
        "import numpy as np\n",
        "from nltk.corpus import stopwords \n",
        "from nltk import word_tokenize\n",
        "import nltk\n",
        "nltk.download(\"stopwords\")\n",
        "from nltk.stem import SnowballStemmer\n",
        "import timeit,time\n",
        "from collections import defaultdict\n",
        "import re, string, unicodedata\n",
        "gc.disable()\n",
        "stemmer = SnowballStemmer('english')"
      ],
      "execution_count": null,
      "outputs": [
        {
          "output_type": "stream",
          "text": [
            "[nltk_data] Downloading package stopwords to /root/nltk_data...\n",
            "[nltk_data]   Package stopwords is already up-to-date!\n"
          ],
          "name": "stdout"
        }
      ]
    },
    {
      "cell_type": "code",
      "metadata": {
        "id": "q7sGcwGHe75H"
      },
      "source": [
        "#paths and globals\n",
        "total_docs = 0\n",
        "doc_title_map = dict()\n",
        "doc_title_path = \"/content/drive/My Drive/IRE_Mini_Project/testing/id-title.txt\"\n",
        "top_word = []\n",
        "top_word_path = \"/content/drive/My Drive/IRE_Mini_Project/result_testing/secondaryIndex.txt\"\n",
        "# top_word_path = \"/content/drive/My Drive/IRE_Mini_Project/result_testing/mysec.txt\""
      ],
      "execution_count": null,
      "outputs": []
    },
    {
      "cell_type": "code",
      "metadata": {
        "id": "dr9Blzw8ww_Q"
      },
      "source": [
        "stop_words = frozenset(stopwords.words('english'))"
      ],
      "execution_count": null,
      "outputs": []
    },
    {
      "cell_type": "code",
      "metadata": {
        "id": "K4Gnwuuhwnrt"
      },
      "source": [
        "f = open(top_word_path,\"r\")\n",
        "top_word=[re.split(\":\",line)[0] for line in f]\n"
      ],
      "execution_count": null,
      "outputs": []
    },
    {
      "cell_type": "code",
      "metadata": {
        "id": "wdjaGbM_K8cg"
      },
      "source": [
        "f = open(doc_title_path,\"r\")\n",
        "for line in f:\n",
        "    if line.count('==') >= 2:\n",
        "        docID = line.split('==')[0]\n",
        "        titleMap = line[line.find('==')+2:]\n",
        "    else:\n",
        "        docID,titleMap = line.split('==')\n",
        "    doc_title_map[docID] = titleMap\n",
        "    total_docs += 1"
      ],
      "execution_count": null,
      "outputs": []
    },
    {
      "cell_type": "markdown",
      "metadata": {
        "id": "DZJLClKBqZe3"
      },
      "source": [
        "## Normal Query"
      ]
    },
    {
      "cell_type": "code",
      "metadata": {
        "id": "T0L3-DIEkYYq"
      },
      "source": [
        "# faster version : using regex (~0.3 sec per word)\n",
        "def find_posting(path, start_flag, word):\n",
        "    f = open(path,'r+b')\n",
        "    # print(path)\n",
        "    mf = mmap.mmap(f.fileno(), 0)\n",
        "    mf.seek(0) # reset file cursor\n",
        "    if start_flag:\n",
        "        word = bytes(word + \"=\" ,'utf-8')\n",
        "    else:\n",
        "        word = bytes(\"\\n\" + word + \"=\" ,'utf-8')\n",
        "    m = re.search(word, mf)\n",
        "    if m == None:\n",
        "        return \"\"\n",
        "    else:\n",
        "        mf.seek(m.start()+1)\n",
        "        ans = mf.readline().decode('utf-8')\n",
        "    mf.close()\n",
        "    f.close()\n",
        "    return ans\n",
        "    # print(m.start(), m.end())"
      ],
      "execution_count": null,
      "outputs": []
    },
    {
      "cell_type": "code",
      "metadata": {
        "id": "Vxc5a-nG_IX3"
      },
      "source": [
        "def process_input(query_words):\n",
        "    search_words = []\n",
        "    for word in query_words:\n",
        "        word = word.lower().strip()\n",
        "        if word not in stop_words:\n",
        "            word = stemmer.stem(word)\n",
        "        if word.isalnum() and len(word)>2 and word not in stop_words:\n",
        "            search_words.append(word)\n",
        "    return search_words        "
      ],
      "execution_count": null,
      "outputs": []
    },
    {
      "cell_type": "code",
      "metadata": {
        "id": "T98TKPteictZ"
      },
      "source": [
        "def normal_query(query_words,K): \n",
        "    start = time.time()\n",
        "    search_words = process_input(query_words)\n",
        "    if len(search_words) == 0:\n",
        "        exit()\n",
        "    global_search = dict(list())\n",
        "    for word in search_words:\n",
        "        pos = bisect(top_word,word)\n",
        "        start_flag = False\n",
        "        if pos-1 >= 0 and top_word[pos-1] == word:\n",
        "            start_flag = True\n",
        "            if pos-1 != 0:\n",
        "                pos -= 1\n",
        "            if pos+1 == len(top_word) and top_word[pos] == word:\n",
        "                pos += 1\n",
        "        primary_file = \"/content/drive/My Drive/IRE_Mini_Project/result_testing\" +\"/\" + \"index\" + str(pos) + \".txt\"\n",
        "        posting = find_posting(primary_file,start_flag,word)\n",
        "        if posting == \"\":\n",
        "            continue\n",
        "        posting_list = re.split(\",\",re.split(\"=\",posting)[1])    \n",
        "        num_docs = len(posting_list)\n",
        "        IDF = round((log10(total_docs/num_docs)),5) #keeping precision upto 5 decimal places\n",
        "        for i in posting_list:\n",
        "            docID, entry = re.split(\":\",i)[0],re.split(\":\",i)[1]\n",
        "            if docID in global_search:\n",
        "                global_search[docID].append(entry + \"_\" + str(IDF))\n",
        "            else:\n",
        "                global_search[docID] = [entry + \"_\" + str(IDF)]\n",
        "    lengthFreq = dict(dict())\n",
        "    regEx = re.compile(r'(\\d+|\\s+)')\n",
        "    for k in global_search:\n",
        "        weightedFreq = 0\n",
        "        n = len(global_search[k])\n",
        "        for x in global_search[k]:\n",
        "            x,idf = re.split(\"_\",x)[0] , re.split(\"_\",x)[1]\n",
        "            x = re.split(\"#\",x)\n",
        "            for y in x:\n",
        "                lis = regEx.split(y)\n",
        "                tagType, freq = lis[0], lis[1]\n",
        "                if tagType == \"t\":\n",
        "                    weightedFreq += int(freq)*1000\n",
        "                elif tagType == \"i\" or tagType == \"c\" or tagType == \"r\" or tagType == \"e\":\n",
        "                    weightedFreq += int(freq)*50\n",
        "                elif tagType == \"b\":\n",
        "                    weightedFreq += int(freq)\n",
        "        if n in lengthFreq:\n",
        "            lengthFreq[n][k] = float(log10(1+weightedFreq))*float(idf)\n",
        "        else:\n",
        "            lengthFreq[n] = {k : float(log10(1+weightedFreq))*float(idf)}\n",
        "    count = 0\n",
        "    flag = False\n",
        "    result = []\n",
        "    end = time.time()  \n",
        "    time_taken = t(end - start)\n",
        "    for k,v in sorted(lengthFreq.items(),reverse=True):\n",
        "        for k1,v1 in sorted(v.items(),key = itemgetter(1),reverse=True):\n",
        "            result.append(str(k1) + \", \" + doc_title_map[k1])\n",
        "            count += 1\n",
        "            if count == K:\n",
        "                flag = True\n",
        "                break\n",
        "        if flag:\n",
        "            break\n",
        "                                         \n",
        "    return result,time_taken        "
      ],
      "execution_count": null,
      "outputs": []
    },
    {
      "cell_type": "markdown",
      "metadata": {
        "id": "f-9nJt9FI25t"
      },
      "source": [
        "## Field Query"
      ]
    },
    {
      "cell_type": "code",
      "metadata": {
        "id": "6W2-N-jNrpTl"
      },
      "source": [
        "def field_query(query_words,K):\n",
        "    start = time.time()\n",
        "    fieldDict = dict()\n",
        "    search_words = []\n",
        "    for word in query_words:\n",
        "        tag, w = word.split(\":\")\n",
        "        w = w.lower()\n",
        "        if w not in stop_words:\n",
        "            w = stemmer.stem(w)\n",
        "        if w.isalnum() and len(w) > 2 and w not in stop_words:\n",
        "            search_words.append(w)\n",
        "            if w in fieldDict:\n",
        "                fieldDict[w] += tag\n",
        "            else:\n",
        "                fieldDict[w] = tag            \n",
        "    if len(search_words) == 0:\n",
        "        exit()\n",
        "    global_search = dict(list())\n",
        "    for word in fieldDict: #changed from search_words to fieldDict, as words may repeat in query\n",
        "        pos = bisect(top_word,word)\n",
        "        start_flag = False\n",
        "        if pos-1 >= 0 and top_word[pos-1] == word:\n",
        "            start_flag = True\n",
        "            if pos-1 != 0:\n",
        "                pos -= 1\n",
        "            if pos+1 == len(top_word) and top_word[pos] == word:\n",
        "                pos += 1\n",
        "        primary_file = \"/content/drive/My Drive/IRE_Mini_Project/result_testing\" +\"/\" + \"index\" + str(pos) + \".txt\"\n",
        "        posting = find_posting(primary_file,start_flag,word)\n",
        "        if posting == \"\":\n",
        "            continue\n",
        "        posting_list = re.split(\",\",re.split(\"=\",posting)[1])    \n",
        "        num_docs = len(posting_list)\n",
        "        IDF = round((log10(total_docs/num_docs)),5) #keeping precision 5\n",
        "        for i in posting_list:\n",
        "            pls = re.split(\":\",i)\n",
        "            if len(pls) > 1:\n",
        "                docID, entry = pls[0],pls[1] \n",
        "                cnt = 0\n",
        "                for ik in range(len(fieldDict[word])):\n",
        "                    if fieldDict[word][ik] in entry:\n",
        "                        cnt += 1\n",
        "                if cnt >= 1:        \n",
        "                    if docID in global_search:\n",
        "                        global_search[docID].append(entry + \"_\" + str(IDF))\n",
        "                    else:\n",
        "                        global_search[docID] = [entry + \"_\" + str(IDF)]\n",
        "    lengthFreq = dict(dict())\n",
        "    regEx = re.compile(r'(\\d+|\\s+)')\n",
        "    for k in global_search:\n",
        "        unweightedFreq = 0\n",
        "        n = len(global_search[k])\n",
        "        #edited from here\n",
        "        for wd in fieldDict:\n",
        "            for ik in range(len(fieldDict[wd])):\n",
        "                for x in global_search[k]:\n",
        "                    x,idf = re.split(\"_\",x)[0] , re.split(\"_\",x)[1]\n",
        "                    x = re.split(\"#\",x)\n",
        "                    for y in x:\n",
        "                        lis = regEx.split(y)\n",
        "                        tagType, freq = lis[0], lis[1]\n",
        "                        if tagType == fieldDict[wd][ik]:\n",
        "                            unweightedFreq += int(freq)*1000\n",
        "                        else:\n",
        "                            unweightedFreq += int(freq)*5    \n",
        "        if n in lengthFreq:\n",
        "            lengthFreq[n][k] = float(log10(1+unweightedFreq))*float(idf)\n",
        "        else:\n",
        "            lengthFreq[n] = {k : float(log10(1+unweightedFreq))*float(idf)}\n",
        "    count = 0\n",
        "    flag = False\n",
        "    result = []\n",
        "    end = time.time()\n",
        "    time_taken = t(end-start)\n",
        "    for k,v in sorted(lengthFreq.items(),reverse=True):\n",
        "        for k1,v1 in sorted(v.items(),key=itemgetter(1),reverse=True):\n",
        "            # print(doc_title_map[k1])\n",
        "            result.append((k1) + \", \" + doc_title_map[k1])\n",
        "            count += 1\n",
        "            if count == K:\n",
        "                flag = True\n",
        "                break\n",
        "        if flag:\n",
        "            break\n",
        "                \n",
        "    return result,time_taken         "
      ],
      "execution_count": null,
      "outputs": []
    },
    {
      "cell_type": "markdown",
      "metadata": {
        "id": "VdRXfkNlXPV9"
      },
      "source": [
        "### Search Execution by giving query input in a file : \"query.txt\" and printing output to a file : \"query_op.txt\"\n"
      ]
    },
    {
      "cell_type": "code",
      "metadata": {
        "id": "1t1ozeEqJpNu",
        "outputId": "f42f3d10-7cec-4a90-b364-2890223a731b",
        "colab": {
          "base_uri": "https://localhost:8080/",
          "height": 1000
        }
      },
      "source": [
        "path = \"/content/drive/My Drive/IRE_Mini_Project/2019201047_queries1.txt\"\n",
        "f = open(path,\"r\")\n",
        "# fw = open(\"/content/drive/My Drive/IRE_Mini_Project\" + \"/\" + \"query_op_new.txt\",\"w\")\n",
        "for line in f:\n",
        "    K = int(line.split(\",\")[0].strip())\n",
        "    query = line.split(\",\")[1].strip()\n",
        "    if ':' in query:\n",
        "        #fetch tags\n",
        "        tag_list = []\n",
        "        for s in query.split():\n",
        "            if ':' in s:\n",
        "                tag_list.append(s.split(':')[0])\n",
        "        # fetch complete string        \n",
        "        ans = query.split(':')\n",
        "        for l in range(1,len(ans)-1):\n",
        "            ans[l]= ans[l][:-2]\n",
        "        ans = ans[1:]\n",
        "        # merge tag:complete string\n",
        "        for i in range(len(ans)):\n",
        "            ans[i] = tag_list[i] + ':' + ans[i]\n",
        "        finall = []\n",
        "        # split strings containing space(multiple words) and associate tag \n",
        "        for i in range(len(ans)):\n",
        "            if ' ' in ans[i]:\n",
        "                tag = ans[i].split(':')[0]\n",
        "                pl = (ans[i].split(':')[1]).split()\n",
        "                for k in pl:\n",
        "                    finall.append(tag + \":\" + k)\n",
        "            else:\n",
        "                finall.append(ans[i])\n",
        "        res,ti = field_query(finall,int(K))\n",
        "        # print(res)\n",
        "        for i in res:\n",
        "            print(i,end=\"\")\n",
        "        print(str(round(ti,4)))\n",
        "        print('\\n',end=\"\")\n",
        "        # fw.writelines(res)\n",
        "        # fw.write(str(round(ti,4)) + '\\n\\n')\n",
        "    else:\n",
        "        res,ti = normal_query(query.split(),int(K))\n",
        "        # print(res)\n",
        "        for i in res:\n",
        "            print(i,end=\"\")\n",
        "        print(str(round(ti,4)))\n",
        "        print('\\n',end=\"\")\n",
        "        # fw.writelines(res)\n",
        "        # fw.write(str(round(ti,4)) + '\\n\\n')"
      ],
      "execution_count": null,
      "outputs": [
        {
          "output_type": "stream",
          "text": [
            "3259675, College Hoops 2K8\n",
            "4003341, College Hoops 2K6\n",
            "1834987, College Hoops 2K7\n",
            "7507637, Fox Sports College Hoops '99\n",
            "8818178, ESPN College Hoops 2K5\n",
            "1857448, ESPN College Hoops\n",
            "8846886, ESPN College Hoops 2k5\n",
            "7792849, College hoops\n",
            "1160084, File:ESPN College Hoops 2K5 Coverart.png\n",
            "3246407, Dick Vitale's \"Awesome Baby\" College Hoops\n",
            "4.7243\n",
            "\n",
            "1007958, String Quartet No. 5 (Dvorak)\n",
            "1008059, String Quartet No. 10 (Dvorak)\n",
            "2173161, String Quartet No. 14 (Dvorak)\n",
            "2701992, String Quartet No. 13 (Dvorak)\n",
            "3415277, String Quartet No. 12 (Dvorak)\n",
            "4.1936\n",
            "\n",
            "5650128, Agostini\n",
            "8886507, Giacomo Agostini\n",
            "2433991, Linda Agostini\n",
            "2902116, Mike Agostini\n",
            "3722779, De Agostini\n",
            "1.2525\n",
            "\n",
            "7958486, Love\n",
            "8571673, Triangular theory of love\n",
            "9361585, Love at first sight\n",
            "6681933, Love dart\n",
            "8516782, Oliver Loving\n",
            "987735, I Love the '80s (British TV series)\n",
            "8291826, The Lexicon of Love\n",
            "4790122, Indian Love Call\n",
            "2693352, Love Letters (play)\n",
            "8630520, Love child\n",
            "1.201\n",
            "\n",
            "6498853, Sébastien Siani\n",
            "4425314, Sebastien Siani\n",
            "9341642, Paul Okon\n",
            "9234388, Eddie Gill\n",
            "3550419, Melvin Sanders\n",
            "39542, Mark Dickel\n",
            "3355290, Michael Hawkins (basketball)\n",
            "7020540, Damjan Rudež\n",
            "5190972, Ivan Paunić\n",
            "9223614, Bracey Wright\n",
            "4.5371\n",
            "\n",
            "8285626, Gunfighter\n",
            "8289432, Daring-class destroyer (1949)\n",
            "8280315, Tiger-class cruiser\n",
            "8282746, Longboard (skateboard)\n",
            "8282750, Wikipedia:Quickpolls/Archive\n",
            "8283169, Battle of Diu (1509)\n",
            "8283933, Muhammad Yunus\n",
            "8286894, Wikipedia:WikiProject Albums/Needs cover\n",
            "8289375, Mike McCready\n",
            "8290956, Order of the Golden Fleece\n",
            "8291377, Lou Blonger\n",
            "8292270, Kato (The Green Hornet)\n",
            "8294808, Zurab Tchiaberashvili\n",
            "1.009\n",
            "\n",
            "8292140, Power Windows (album)\n",
            "8281701, Maxthon\n",
            "8285130, Microsoft XNA\n",
            "8294500, A Series of Unfortunate Events\n",
            "8293311, Hold Your Fire\n",
            "8282959, Kiten (program)\n",
            "8288717, Creatures 3\n",
            "8288720, Creatures 2\n",
            "8290968, Battlefield Vietnam\n",
            "8287259, Skellig Islands\n",
            "4.2412\n",
            "\n",
            "8889961, Wikipedia:Templates for discussion/Log/Not deleted/February 2005\n",
            "9405318, Wikipedia:Reference desk/Archives/Science/October 2005\n",
            "9405339, Wikipedia:Reference desk/Archives/Miscellaneous/October 2005\n",
            "9622340, Wikipedia:Reference desk/Archives/Science/December 2005\n",
            "1755509, 2005 Kashmir earthquake\n",
            "9632232, 2005 Hindu Kush earthquake\n",
            "9607171, 2005 Lake Tanganyika earthquake\n",
            "8805631, 2005 Zarand earthquake\n",
            "9536275, Wikipedia:Reference desk/Archives/Science/November 2005\n",
            "8863776, 2005 Nias–Simeulue earthquake\n",
            "4.1197\n",
            "\n",
            "8075151, 2006 Commonwealth Games\n",
            "8428514, Athletics at the 2006 Commonwealth Games\n",
            "3481073, Netball at the 2006 Commonwealth Games\n",
            "3505794, Kenya at the 2006 Commonwealth Games\n",
            "8899066, Basketball at the 2006 Commonwealth Games\n",
            "3505689, Anguilla at the 2006 Commonwealth Games\n",
            "8899045, Badminton at the 2006 Commonwealth Games\n",
            "3502077, Saint Helena at the 2006 Commonwealth Games\n",
            "3505526, Mauritius at the 2006 Commonwealth Games\n",
            "3520599, Table tennis at the 2006 Commonwealth Games\n",
            "4.3915\n",
            "\n",
            "7076732, List of Kung Fu Panda characters\n",
            "4818630, Combat School (TV series)\n",
            "5524534, Combat School\n",
            "2497478, United States Air Force Combat Rescue School\n",
            "8458260, 85 Combat Flying School SAAF\n",
            "4078059, Combat Survival Training School RAAF\n",
            "5439475, Mahanoy Area School District\n",
            "1489092, Combat School (TV Series)\n",
            "5394046, Combat School (television series)\n",
            "7152119, 85 Combat Flying School\n",
            "8458259, No. 85 Combat Flying School SAAF\n",
            "4124950, United States Army Combatives School\n",
            "5646157, US Army Combatives School\n",
            "5676889, Marine Corps Combat Service Support Schools\n",
            "9825057, Gresham's School\n",
            "8151101, Houston Independent School District\n",
            "8626798, Royal Grammar School, Guildford\n",
            "4573940, Beaumont High School (St. Louis)\n",
            "8381272, President William McKinley High School\n",
            "8212288, Harvard-Westlake School\n",
            "4.3343\n",
            "\n",
            "7079606, Category:Ambassadors of Tajikistan to Russia\n",
            "7117941, Category:Ambassadors of Russia to Tajikistan\n",
            "7964025, Foreign relations of Russia\n",
            "2913768, International copyright relations of Russia\n",
            "3732689, Template:Foreign relations of Tajikistan\n",
            "3530659, Template:Foreign relations of Russia\n",
            "7029970, Category:Bilateral relations of Russia\n",
            "4034670, Category:Foreign relations of Tajikistan\n",
            "7056618, Category:Bilateral relations of Tajikistan\n",
            "7169570, Category:Multilateral relations of Russia\n",
            "9313201, Category:Foreign relations of Russia\n",
            "5697637, Foreign relations of russia\n",
            "5697667, Foreign relations of tajikistan\n",
            "106427, Russia north korea relations\n",
            "184067, Norway – Russia relations\n",
            "459165, Afghanistan – Russia relations\n",
            "512745, Russia - UK relations\n",
            "512748, UK - Russia relations\n",
            "1145779, Relations of Moldova with Russia\n",
            "1332520, Russia – East Timor relations\n",
            "2.1105\n",
            "\n",
            "8106003, Monkey King\n",
            "6267317, Journey to the West – Legends of the Monkey King\n",
            "3848755, Signifying monkey\n",
            "8884720, Loki (comics)\n",
            "2508037, Theme park live adaptations of The Lion King\n",
            "8163873, King Zhending of Zhou\n",
            "8994390, Monkey (novel)\n",
            "8942888, The Myths and Legends of King Arthur and the Knights of the Round Table\n",
            "8137192, Veles (god)\n",
            "8157102, King Wu of Zhou\n",
            "1769814, King ov Hell\n",
            "8653541, Maximón\n",
            "7956389, Hermes\n",
            "8119069, Dragon King\n",
            "7959003, Lugh\n",
            "8518880, King Zhou of Shang\n",
            "8861810, Huēhuecoyōtl\n",
            "7962329, Prometheus\n",
            "2614625, Ekwensu\n",
            "1176358, Category:Hermes\n",
            "4.4374\n",
            "\n",
            "3178105, Russia national speedway team\n",
            "7481622, Andrey Kudriashov\n",
            "8289405, Zhelyu Zhelev\n",
            "663231, Wikipedia:WikiProject Football/Did you know\n",
            "621834, Wikipedia:WikiProject Deletion sorting/Events/archive\n",
            "8776855, Kyle Busch\n",
            "7267172, Wikipedia:Templates with red links/098\n",
            "575722, Wikipedia:WikiProject Deletion sorting/Sports/archive\n",
            "8105271, Motorcycle speedway\n",
            "1893747, Ivan Mauger\n",
            "4.4304\n",
            "\n",
            "8523940, Chinese Democracy\n",
            "2002460, Chinese Democracy (song)\n",
            "2761859, Chinese Democracy Tour\n",
            "8343228, Against Me! Is Reinventing Axl Rose\n",
            "9500237, Garden of Eden (Guns N' Roses song)\n",
            "7164299, Moon Is the New Earth\n",
            "7081408, The Million Dollar Backpack\n",
            "6928943, Only Through the Pain\n",
            "7028630, Losing Sleep (Axle Whitehead album)\n",
            "7896215, Roses and Tears\n",
            "4.6124\n",
            "\n",
            "8438747, The Big Four (novel)\n",
            "6495698, And Then There Were None\n",
            "8112736, The Murder of Roger Ackroyd\n",
            "8069965, Agatha Christie's Poirot\n",
            "9201807, Poirot's Early Cases\n",
            "9201801, Partners in Crime (short story collection)\n",
            "8123693, Arthur Hastings\n",
            "2531728, One, Two, Buckle My Shoe (novel)\n",
            "9538524, Murder in the Mews\n",
            "9167766, Passenger to Frankfurt\n",
            "4.7905\n",
            "\n",
            "1.643\n",
            "\n",
            "1600407, Graveyard of Honor (2002 film)\n",
            "5474144, Goro Majima\n",
            "1619988, The Man in White\n",
            "1626046, Deadly Outlaw: Rekka\n",
            "1626133, Agitator (film)\n",
            "9023763, Izo\n",
            "1978533, Kikoku\n",
            "2224204, Tetsuji Takechi\n",
            "6174476, Dreamusic\n",
            "8192932, Full Metal Panic!\n",
            "3.3688\n",
            "\n",
            "3443791, Alfa Romeo 105/115 Series Coupés\n",
            "2185648, Alfa Romeo 6C\n",
            "8849824, Alfa Romeo 8C\n",
            "3490808, Alfa Romeo Tipo 33\n",
            "9565578, Alfa Romeo GTA\n",
            "1.8823\n",
            "\n",
            "8285626, Gunfighter\n",
            "8289432, Daring-class destroyer (1949)\n",
            "8280315, Tiger-class cruiser\n",
            "1.5601\n",
            "\n",
            "8285478, Liana\n",
            "8280998, Stress–strain analysis\n",
            "7369893, Modulus modulus\n",
            "8289178, Malcolm Young\n",
            "8285494, Angus Young\n",
            "1.873\n",
            "\n",
            "7964834, Special relativity\n",
            "7963728, Quantum mechanics\n",
            "7950756, Copenhagen interpretation\n",
            "6669180, Classical mechanics\n",
            "7964179, Refraction\n",
            "5182100, Cherenkov radiation\n",
            "6681656, Time in physics\n",
            "8140611, Time dilation\n",
            "9349938, Symmetry (physics)\n",
            "7983864, Newton's laws of motion\n",
            "4.266\n",
            "\n",
            "3573339, James Lee (Canadian politician)\n",
            "9800395, Lee Myung-bak\n",
            "2451593, John C. H. Lee\n",
            "7155017, James Dean\n",
            "8462524, Barclay James Harvest\n",
            "9200690, M1895 Lee Navy\n",
            "7957409, James Monroe\n",
            "5126930, Tom Lees\n",
            "8118411, Witness Lee\n",
            "4349384, James Paris Lee\n",
            "7323405, Phillip Lee (politician)\n",
            "8582321, James Lee Byars\n",
            "8752511, Thomas Sim Lee\n",
            "5359999, James Yimm Lee\n",
            "349188, Matty James\n",
            "5534070, Miracle at St. Anna\n",
            "107373, 1984 Tampa Bay Buccaneers season\n",
            "9732608, James Boggs (activist)\n",
            "8913533, Lim Chin Siong\n",
            "8506934, James at 15\n",
            "4.1424\n",
            "\n",
            "8264008, Taxicab number\n",
            "4109161, Wikipedia:Evaluating how interesting an integer's mathematical property is\n",
            "8263683, 1729 (number)\n",
            "8354513, Generalized taxicab number\n",
            "8214034, Wikipedia:WikiProject Numbers\n",
            "7477824, List of Futurama characters\n",
            "7953213, Euler's sum of powers conjecture\n",
            "8260196, Interesting number paradox\n",
            "8302484, Joseph Force Crater\n",
            "9453415, 4104 (number)\n",
            "1696727, Injective metric space\n",
            "7982893, New Orleans\n",
            "7982960, Hippocampus\n",
            "8176434, History of Paris\n",
            "8223980, 1000 (number)\n",
            "8231854, Kandahar Province\n",
            "9617194, Timeline of Paris\n",
            "4231049, Taxicabs by country\n",
            "4814706, Taxicab\n",
            "2577952, Taxicabs of the United States\n",
            "9072670, Taxicabs of New York City\n",
            "8550837, Checker Motors Corporation\n",
            "1356592, Taxis in India\n",
            "5292432, Hybrid taxi\n",
            "2625237, Taxicabs of the United Kingdom\n",
            "8203414, Taxicab geometry\n",
            "2761562, Taxicabs of Mexico\n",
            "680604, New York City Taxi and Limousine Commission\n",
            "8550830, Yellow cab\n",
            "9695581, List of Acts of the Parliament of Great Britain, 1720–1739\n",
            "1.8924\n",
            "\n",
            "8474167, Taskmaster (comics)\n",
            "8763379, Bushman (comics)\n",
            "484309, Frenchie (comics)\n",
            "8732631, Cobra (Marvel Comics)\n",
            "9455976, Symbiote (comics)\n",
            "9321846, Echo (Marvel Comics)\n",
            "8200631, Captain Marvel (DC Comics)\n",
            "2500659, Profile (Marvel Comics)\n",
            "4140331, Doctor Bong\n",
            "1900281, Captain Marvel Jr.\n",
            "8363476, Emma Frost\n",
            "8142906, Superboy\n",
            "8518578, She-Hulk\n",
            "8195221, Kitty Pryde\n",
            "8212378, Dazzler (Marvel Comics)\n",
            "8566114, Power Pack\n",
            "8282888, The Tomb of Dracula\n",
            "8083467, Pogo (comic strip)\n",
            "8382414, Uncanny X-Men\n",
            "8889079, Werewolf by Night\n",
            "9654984, Phantom Eagle\n",
            "8632518, Epic Illustrated\n",
            "6035633, Chaos War\n",
            "1976445, Union Jack (Joseph Chapman)\n",
            "8360627, Powers (comics)\n",
            "8101661, X-Men (TV series)\n",
            "1140476, Super-Villain Team-Up\n",
            "9764723, X-Men: Legacy\n",
            "9170765, Web of Spider-Man\n",
            "3688498, Planet Hulk\n",
            "5204970, The Gauntlet and Grim Hunt\n",
            "765893, Star Trek/X-Men\n",
            "4606992, Cipher (comics)\n",
            "9009604, Machine Teen\n",
            "9688026, X-Men: Deadly Genesis\n",
            "2011882, Gene Dogs\n",
            "8152061, Xanadu (film)\n",
            "7960803, Marvel Comics\n",
            "8143258, Wolverine (character)\n",
            "8476578, Moon Knight\n",
            "8624729, Marvel Family\n",
            "7955518, Galactus\n",
            "8150910, Mac Gargan\n",
            "8259338, Blade (character)\n",
            "8829674, Advanced Idea Mechanics\n",
            "8371082, Mary Marvel\n",
            "7963585, Peter David\n",
            "8150851, Kraven the Hunter\n",
            "6459565, Norman Osborn\n",
            "2139821, Alternative versions of Spider-Man\n",
            "4.65\n",
            "\n",
            "8506512, Sudebnik of 1497\n",
            "2076480, Sudebnik of 1550\n",
            "6014674, Sudebnik of Kazimir\n",
            "9822011, Sobornoye Ulozheniye\n",
            "8055786, Ivan III of Russia\n",
            "4626861, Forbidden years\n",
            "6152040, List of Russian scientists\n",
            "8014774, List of Russian people\n",
            "8389842, Russkaya Pravda\n",
            "8791841, Serfdom in Russia\n",
            "2603105, Capital punishment in Russia\n",
            "2716409, List of Belarus-related topics\n",
            "3530120, George's Day in Autumn\n",
            "5394977, William E. Butler\n",
            "5765246, Novgorod Judicial Charter\n",
            "6248666, List of Russian historians\n",
            "7956187, History of Russia\n",
            "7963847, Russia\n",
            "7994475, Ivan the Terrible\n",
            "8143218, Pskov\n",
            "8272610, Law of Russia\n",
            "8542899, Vasily Tatishchev\n",
            "8691061, Early modern period\n",
            "1.3855\n",
            "\n"
          ],
          "name": "stdout"
        }
      ]
    },
    {
      "cell_type": "code",
      "metadata": {
        "id": "ncH8kwSCbMKg",
        "outputId": "c40c5dd0-2d95-49a3-f8b9-e18b2985543d",
        "colab": {
          "base_uri": "https://localhost:8080/",
          "height": 585
        }
      },
      "source": [
        "!ls -lh \"/content/drive/My Drive/IRE_Mini_Project/result_testing\""
      ],
      "execution_count": null,
      "outputs": [
        {
          "output_type": "stream",
          "text": [
            "total 9.4G\n",
            "-rw------- 1 root root 532M Sep 10 13:38 index10.txt\n",
            "-rw------- 1 root root 405M Sep 10 13:41 index11.txt\n",
            "-rw------- 1 root root 333M Sep 10 13:44 index12.txt\n",
            "-rw------- 1 root root 380M Sep 10 13:47 index13.txt\n",
            "-rw------- 1 root root 279M Sep 10 13:50 index14.txt\n",
            "-rw------- 1 root root 430M Sep 10 13:53 index15.txt\n",
            "-rw------- 1 root root 342M Sep 10 13:55 index16.txt\n",
            "-rw------- 1 root root 407M Sep 10 13:58 index17.txt\n",
            "-rw------- 1 root root 388M Sep 10 14:01 index18.txt\n",
            "-rw------- 1 root root 500M Sep 10 14:04 index19.txt\n",
            "-rw------- 1 root root 157M Sep 10 13:13 index1.txt\n",
            "-rw------- 1 root root 401M Sep 10 14:07 index20.txt\n",
            "-rw------- 1 root root 412M Sep 10 14:10 index21.txt\n",
            "-rw------- 1 root root 422M Sep 10 14:13 index22.txt\n",
            "-rw------- 1 root root 392M Sep 10 14:16 index23.txt\n",
            "-rw------- 1 root root 379M Sep 10 14:18 index24.txt\n",
            "-rw------- 1 root root 178M Sep 10 14:21 index25.txt\n",
            "-rw------- 1 root root  80M Sep 10 14:23 index26.txt\n",
            "-rw------- 1 root root  94M Sep 10 14:25 index27.txt\n",
            "-rw------- 1 root root  98M Sep 10 14:27 index28.txt\n",
            "-rw------- 1 root root 103M Sep 10 14:28 index29.txt\n",
            "-rw------- 1 root root 350M Sep 10 13:16 index2.txt\n",
            "-rw------- 1 root root 6.0M Sep 10 14:28 index30.txt\n",
            "-rw------- 1 root root 111M Sep 10 13:18 index3.txt\n",
            "-rw------- 1 root root 407M Sep 10 13:21 index4.txt\n",
            "-rw------- 1 root root 395M Sep 10 13:24 index5.txt\n",
            "-rw------- 1 root root 339M Sep 10 13:27 index6.txt\n",
            "-rw------- 1 root root 380M Sep 10 13:30 index7.txt\n",
            "-rw------- 1 root root 502M Sep 10 13:33 index8.txt\n",
            "-rw------- 1 root root 359M Sep 10 13:35 index9.txt\n",
            "-rw------- 1 root root  444 Sep 29 10:10 secondaryIndex.txt\n"
          ],
          "name": "stdout"
        }
      ]
    },
    {
      "cell_type": "code",
      "metadata": {
        "id": "nxeG-keebMUw"
      },
      "source": [
        ""
      ],
      "execution_count": null,
      "outputs": []
    },
    {
      "cell_type": "code",
      "metadata": {
        "id": "3YwfEZWCbMST"
      },
      "source": [
        ""
      ],
      "execution_count": null,
      "outputs": []
    },
    {
      "cell_type": "code",
      "metadata": {
        "id": "PXymeUVBbMP2"
      },
      "source": [
        ""
      ],
      "execution_count": null,
      "outputs": []
    },
    {
      "cell_type": "code",
      "metadata": {
        "id": "DSoIthaxbMEV"
      },
      "source": [
        ""
      ],
      "execution_count": null,
      "outputs": []
    },
    {
      "cell_type": "code",
      "metadata": {
        "id": "-UB40blXbMB4"
      },
      "source": [
        ""
      ],
      "execution_count": null,
      "outputs": []
    },
    {
      "cell_type": "code",
      "metadata": {
        "id": "V4J-bD-_bL_c"
      },
      "source": [
        ""
      ],
      "execution_count": null,
      "outputs": []
    },
    {
      "cell_type": "code",
      "metadata": {
        "id": "3qucGdu5bL89"
      },
      "source": [
        ""
      ],
      "execution_count": null,
      "outputs": []
    },
    {
      "cell_type": "code",
      "metadata": {
        "id": "y_3SncpkUTp8"
      },
      "source": [
        ""
      ],
      "execution_count": null,
      "outputs": []
    },
    {
      "cell_type": "code",
      "metadata": {
        "id": "cUJyPLd-VAdz"
      },
      "source": [
        ""
      ],
      "execution_count": null,
      "outputs": []
    },
    {
      "cell_type": "code",
      "metadata": {
        "id": "d2PYf00qVAlv"
      },
      "source": [
        ""
      ],
      "execution_count": null,
      "outputs": []
    },
    {
      "cell_type": "code",
      "metadata": {
        "id": "ZyhKRqrFVAvW"
      },
      "source": [
        ""
      ],
      "execution_count": null,
      "outputs": []
    },
    {
      "cell_type": "code",
      "metadata": {
        "id": "d4DLCNJ-VA28"
      },
      "source": [
        ""
      ],
      "execution_count": null,
      "outputs": []
    },
    {
      "cell_type": "code",
      "metadata": {
        "id": "b9AfbbKoVBF2"
      },
      "source": [
        ""
      ],
      "execution_count": null,
      "outputs": []
    },
    {
      "cell_type": "code",
      "metadata": {
        "id": "xhIj7OFXVBRd"
      },
      "source": [
        ""
      ],
      "execution_count": null,
      "outputs": []
    },
    {
      "cell_type": "code",
      "metadata": {
        "id": "gIwO1T_aVBfG"
      },
      "source": [
        ""
      ],
      "execution_count": null,
      "outputs": []
    },
    {
      "cell_type": "code",
      "metadata": {
        "id": "jwXTMkDadXcn"
      },
      "source": [
        ""
      ],
      "execution_count": null,
      "outputs": []
    },
    {
      "cell_type": "code",
      "metadata": {
        "id": "ZfD2KVwqdXhg"
      },
      "source": [
        ""
      ],
      "execution_count": null,
      "outputs": []
    },
    {
      "cell_type": "code",
      "metadata": {
        "id": "bfN7XV1zdX2z"
      },
      "source": [
        ""
      ],
      "execution_count": null,
      "outputs": []
    },
    {
      "cell_type": "code",
      "metadata": {
        "id": "fUUVHKCmdX-V"
      },
      "source": [
        ""
      ],
      "execution_count": null,
      "outputs": []
    },
    {
      "cell_type": "code",
      "metadata": {
        "id": "MMG2zfeYdYRQ"
      },
      "source": [
        ""
      ],
      "execution_count": null,
      "outputs": []
    },
    {
      "cell_type": "code",
      "metadata": {
        "id": "UrY99oWzdYj-"
      },
      "source": [
        ""
      ],
      "execution_count": null,
      "outputs": []
    },
    {
      "cell_type": "code",
      "metadata": {
        "id": "WpeKzMuOdYuc"
      },
      "source": [
        ""
      ],
      "execution_count": null,
      "outputs": []
    },
    {
      "cell_type": "code",
      "metadata": {
        "id": "261470zqdYb5"
      },
      "source": [
        ""
      ],
      "execution_count": null,
      "outputs": []
    },
    {
      "cell_type": "code",
      "metadata": {
        "id": "IYH-UrOpdYI-"
      },
      "source": [
        ""
      ],
      "execution_count": null,
      "outputs": []
    },
    {
      "cell_type": "code",
      "metadata": {
        "id": "FUg6IP2zdXvB"
      },
      "source": [
        ""
      ],
      "execution_count": null,
      "outputs": []
    },
    {
      "cell_type": "code",
      "metadata": {
        "id": "tLdMBq3aVCLo"
      },
      "source": [
        ""
      ],
      "execution_count": null,
      "outputs": []
    },
    {
      "cell_type": "code",
      "metadata": {
        "id": "VkSKsS5LVCYi"
      },
      "source": [
        ""
      ],
      "execution_count": null,
      "outputs": []
    },
    {
      "cell_type": "code",
      "metadata": {
        "id": "rbLiTXuZVCk7"
      },
      "source": [
        ""
      ],
      "execution_count": null,
      "outputs": []
    },
    {
      "cell_type": "code",
      "metadata": {
        "id": "CnKBHO3NVC4r"
      },
      "source": [
        ""
      ],
      "execution_count": null,
      "outputs": []
    },
    {
      "cell_type": "code",
      "metadata": {
        "id": "1_yT55iDVDFn"
      },
      "source": [
        ""
      ],
      "execution_count": null,
      "outputs": []
    },
    {
      "cell_type": "code",
      "metadata": {
        "id": "gwo3yaqHVDX7"
      },
      "source": [
        ""
      ],
      "execution_count": null,
      "outputs": []
    },
    {
      "cell_type": "code",
      "metadata": {
        "id": "LezZxGT6VDdd"
      },
      "source": [
        ""
      ],
      "execution_count": null,
      "outputs": []
    },
    {
      "cell_type": "code",
      "metadata": {
        "id": "vnMktjQHVDVL"
      },
      "source": [
        ""
      ],
      "execution_count": null,
      "outputs": []
    },
    {
      "cell_type": "code",
      "metadata": {
        "id": "Ng0_AQ3eVDTp"
      },
      "source": [
        ""
      ],
      "execution_count": null,
      "outputs": []
    },
    {
      "cell_type": "code",
      "metadata": {
        "id": "io7LxqHxVDQL"
      },
      "source": [
        ""
      ],
      "execution_count": null,
      "outputs": []
    },
    {
      "cell_type": "code",
      "metadata": {
        "id": "Er2XX1dDVDN6"
      },
      "source": [
        ""
      ],
      "execution_count": null,
      "outputs": []
    },
    {
      "cell_type": "code",
      "metadata": {
        "id": "xF-5cHDbVDMF"
      },
      "source": [
        ""
      ],
      "execution_count": null,
      "outputs": []
    },
    {
      "cell_type": "code",
      "metadata": {
        "id": "VPrpipOAVDJy"
      },
      "source": [
        ""
      ],
      "execution_count": null,
      "outputs": []
    },
    {
      "cell_type": "code",
      "metadata": {
        "id": "DZf0DHYUVDBr"
      },
      "source": [
        ""
      ],
      "execution_count": null,
      "outputs": []
    },
    {
      "cell_type": "code",
      "metadata": {
        "id": "U0aJxCkeVDAQ"
      },
      "source": [
        ""
      ],
      "execution_count": null,
      "outputs": []
    },
    {
      "cell_type": "code",
      "metadata": {
        "id": "rAca9N4tbGYE"
      },
      "source": [
        ""
      ],
      "execution_count": null,
      "outputs": []
    },
    {
      "cell_type": "code",
      "metadata": {
        "id": "jlmj5Z5WbGji"
      },
      "source": [
        ""
      ],
      "execution_count": null,
      "outputs": []
    },
    {
      "cell_type": "code",
      "metadata": {
        "id": "hs-qoC79bGhI"
      },
      "source": [
        ""
      ],
      "execution_count": null,
      "outputs": []
    },
    {
      "cell_type": "code",
      "metadata": {
        "id": "IJXwWf5KbGe9"
      },
      "source": [
        ""
      ],
      "execution_count": null,
      "outputs": []
    },
    {
      "cell_type": "code",
      "metadata": {
        "id": "w6XKpfj1bGcq"
      },
      "source": [
        ""
      ],
      "execution_count": null,
      "outputs": []
    },
    {
      "cell_type": "code",
      "metadata": {
        "id": "VMm1Twt9bGS0"
      },
      "source": [
        ""
      ],
      "execution_count": null,
      "outputs": []
    },
    {
      "cell_type": "code",
      "metadata": {
        "id": "xGMHQ8eabGQs"
      },
      "source": [
        ""
      ],
      "execution_count": null,
      "outputs": []
    },
    {
      "cell_type": "code",
      "metadata": {
        "id": "PdXY5Wa_bGOM"
      },
      "source": [
        ""
      ],
      "execution_count": null,
      "outputs": []
    },
    {
      "cell_type": "code",
      "metadata": {
        "id": "tJt2ao4abGL0"
      },
      "source": [
        ""
      ],
      "execution_count": null,
      "outputs": []
    },
    {
      "cell_type": "code",
      "metadata": {
        "id": "ccWiP0QAbGKD"
      },
      "source": [
        ""
      ],
      "execution_count": null,
      "outputs": []
    },
    {
      "cell_type": "code",
      "metadata": {
        "id": "-WUEDTGxbGHV"
      },
      "source": [
        ""
      ],
      "execution_count": null,
      "outputs": []
    },
    {
      "cell_type": "code",
      "metadata": {
        "id": "ZQGxqInJbGFL"
      },
      "source": [
        ""
      ],
      "execution_count": null,
      "outputs": []
    },
    {
      "cell_type": "code",
      "metadata": {
        "id": "nmhiPJhYbGDT"
      },
      "source": [
        ""
      ],
      "execution_count": null,
      "outputs": []
    },
    {
      "cell_type": "code",
      "metadata": {
        "id": "nO_UV8WvbGA-"
      },
      "source": [
        ""
      ],
      "execution_count": null,
      "outputs": []
    },
    {
      "cell_type": "code",
      "metadata": {
        "id": "awAyJc27bF-y"
      },
      "source": [
        ""
      ],
      "execution_count": null,
      "outputs": []
    },
    {
      "cell_type": "code",
      "metadata": {
        "id": "ke5PLkmZbF8m"
      },
      "source": [
        ""
      ],
      "execution_count": null,
      "outputs": []
    },
    {
      "cell_type": "code",
      "metadata": {
        "id": "o14Z-BlTbF6T"
      },
      "source": [
        ""
      ],
      "execution_count": null,
      "outputs": []
    },
    {
      "cell_type": "code",
      "metadata": {
        "id": "Ht6o9dY8bF3x"
      },
      "source": [
        ""
      ],
      "execution_count": null,
      "outputs": []
    },
    {
      "cell_type": "code",
      "metadata": {
        "id": "PuhdT8wVVC9c"
      },
      "source": [
        ""
      ],
      "execution_count": null,
      "outputs": []
    },
    {
      "cell_type": "code",
      "metadata": {
        "id": "WCJ-Mj-_eKIY"
      },
      "source": [
        "# Error : Because more than one '==' occuring in the title of documents\n",
        "# f = open(doc_title_path,\"r\")\n",
        "# for line in f:\n",
        "#     docID,titleMap = line.split(\"==\")\n",
        "#     doc_title_map[docID] = titleMap\n",
        "#     total_docs += 1"
      ],
      "execution_count": null,
      "outputs": []
    },
    {
      "cell_type": "code",
      "metadata": {
        "id": "NMLud_du9ygU"
      },
      "source": [
        "# find() function too slow (~1 sec per word)\n",
        "# def find_posting(path, start_flag, word):\n",
        "#     fp = open(path,\"r\")\n",
        "#     data = fp.read()\n",
        "#     if start_flag:\n",
        "#         start_index = data.find(word + \"=\")\n",
        "#     else:\n",
        "#         start_index = data.find(\"\\n\" + word + \"=\")\n",
        "#     end_index = data.find(\"\\n\", start_index + 1)\n",
        "#     return data[start_index : end_index]"
      ],
      "execution_count": null,
      "outputs": []
    },
    {
      "cell_type": "code",
      "metadata": {
        "id": "pZ5UMONXVC1h"
      },
      "source": [
        ""
      ],
      "execution_count": null,
      "outputs": []
    },
    {
      "cell_type": "code",
      "metadata": {
        "id": "qGDYQ7T0VCzG"
      },
      "source": [
        ""
      ],
      "execution_count": null,
      "outputs": []
    },
    {
      "cell_type": "code",
      "metadata": {
        "id": "Lxl-sab6VCxG"
      },
      "source": [
        ""
      ],
      "execution_count": null,
      "outputs": []
    },
    {
      "cell_type": "code",
      "metadata": {
        "id": "HxWkHVaPVCv7"
      },
      "source": [
        ""
      ],
      "execution_count": null,
      "outputs": []
    },
    {
      "cell_type": "code",
      "metadata": {
        "id": "IcK-1aKZVCuT"
      },
      "source": [
        ""
      ],
      "execution_count": null,
      "outputs": []
    },
    {
      "cell_type": "code",
      "metadata": {
        "id": "O0iiiHbFVCp3"
      },
      "source": [
        ""
      ],
      "execution_count": null,
      "outputs": []
    },
    {
      "cell_type": "code",
      "metadata": {
        "id": "eeC4-85IVChf"
      },
      "source": [
        ""
      ],
      "execution_count": null,
      "outputs": []
    },
    {
      "cell_type": "code",
      "metadata": {
        "id": "mdaeOtLiVCfm"
      },
      "source": [
        ""
      ],
      "execution_count": null,
      "outputs": []
    },
    {
      "cell_type": "code",
      "metadata": {
        "id": "uz22BEf5VCdT"
      },
      "source": [
        ""
      ],
      "execution_count": null,
      "outputs": []
    },
    {
      "cell_type": "code",
      "metadata": {
        "id": "-D9CD-jEVCVO"
      },
      "source": [
        ""
      ],
      "execution_count": null,
      "outputs": []
    },
    {
      "cell_type": "code",
      "metadata": {
        "id": "DjaSWK2CVCTe"
      },
      "source": [
        ""
      ],
      "execution_count": null,
      "outputs": []
    },
    {
      "cell_type": "code",
      "metadata": {
        "id": "ZpfKq0UQVCQz"
      },
      "source": [
        ""
      ],
      "execution_count": null,
      "outputs": []
    },
    {
      "cell_type": "code",
      "metadata": {
        "id": "oKbsBmzgVCIq"
      },
      "source": [
        ""
      ],
      "execution_count": null,
      "outputs": []
    },
    {
      "cell_type": "code",
      "metadata": {
        "id": "h7tFQlB8VCGo"
      },
      "source": [
        ""
      ],
      "execution_count": null,
      "outputs": []
    },
    {
      "cell_type": "code",
      "metadata": {
        "id": "0D9CsKI1VCEI"
      },
      "source": [
        ""
      ],
      "execution_count": null,
      "outputs": []
    },
    {
      "cell_type": "code",
      "metadata": {
        "id": "TQbszaY0VCB8"
      },
      "source": [
        ""
      ],
      "execution_count": null,
      "outputs": []
    },
    {
      "cell_type": "code",
      "metadata": {
        "id": "6hpjomRsVB6s"
      },
      "source": [
        ""
      ],
      "execution_count": null,
      "outputs": []
    },
    {
      "cell_type": "code",
      "metadata": {
        "id": "zxXHVJtlVB5B"
      },
      "source": [
        ""
      ],
      "execution_count": null,
      "outputs": []
    },
    {
      "cell_type": "code",
      "metadata": {
        "id": "ZNvXXT6JVB2c"
      },
      "source": [
        ""
      ],
      "execution_count": null,
      "outputs": []
    },
    {
      "cell_type": "code",
      "metadata": {
        "id": "0DvzZtCyVBvE"
      },
      "source": [
        ""
      ],
      "execution_count": null,
      "outputs": []
    },
    {
      "cell_type": "code",
      "metadata": {
        "id": "W_Fjk4TwVBs3"
      },
      "source": [
        ""
      ],
      "execution_count": null,
      "outputs": []
    },
    {
      "cell_type": "code",
      "metadata": {
        "id": "exo3i5HFVBqp"
      },
      "source": [
        ""
      ],
      "execution_count": null,
      "outputs": []
    },
    {
      "cell_type": "code",
      "metadata": {
        "id": "mKFqTPAEVBpC"
      },
      "source": [
        ""
      ],
      "execution_count": null,
      "outputs": []
    },
    {
      "cell_type": "code",
      "metadata": {
        "id": "4o12QqBHVBmW"
      },
      "source": [
        ""
      ],
      "execution_count": null,
      "outputs": []
    },
    {
      "cell_type": "code",
      "metadata": {
        "id": "SGJSTKMAVBj9"
      },
      "source": [
        ""
      ],
      "execution_count": null,
      "outputs": []
    },
    {
      "cell_type": "code",
      "metadata": {
        "id": "76x6hj-mVBcJ"
      },
      "source": [
        ""
      ],
      "execution_count": null,
      "outputs": []
    },
    {
      "cell_type": "code",
      "metadata": {
        "id": "MHlkpw6aVBax"
      },
      "source": [
        ""
      ],
      "execution_count": null,
      "outputs": []
    },
    {
      "cell_type": "code",
      "metadata": {
        "id": "uvNBv1xQVBYb"
      },
      "source": [
        ""
      ],
      "execution_count": null,
      "outputs": []
    },
    {
      "cell_type": "code",
      "metadata": {
        "id": "pvT8PIZZVBVl"
      },
      "source": [
        ""
      ],
      "execution_count": null,
      "outputs": []
    },
    {
      "cell_type": "code",
      "metadata": {
        "id": "qUbvzdxfVBN5"
      },
      "source": [
        ""
      ],
      "execution_count": null,
      "outputs": []
    },
    {
      "cell_type": "code",
      "metadata": {
        "id": "CkQfUNLzVBL5"
      },
      "source": [
        ""
      ],
      "execution_count": null,
      "outputs": []
    },
    {
      "cell_type": "code",
      "metadata": {
        "id": "1mpKhYB4VBC8"
      },
      "source": [
        ""
      ],
      "execution_count": null,
      "outputs": []
    },
    {
      "cell_type": "code",
      "metadata": {
        "id": "wIKIr6LDVBBN"
      },
      "source": [
        ""
      ],
      "execution_count": null,
      "outputs": []
    },
    {
      "cell_type": "code",
      "metadata": {
        "id": "Q2qHuivpVA_g"
      },
      "source": [
        ""
      ],
      "execution_count": null,
      "outputs": []
    },
    {
      "cell_type": "code",
      "metadata": {
        "id": "6fpvI0lnVA8w"
      },
      "source": [
        ""
      ],
      "execution_count": null,
      "outputs": []
    },
    {
      "cell_type": "code",
      "metadata": {
        "id": "dE396ZRsVAyl"
      },
      "source": [
        ""
      ],
      "execution_count": null,
      "outputs": []
    },
    {
      "cell_type": "code",
      "metadata": {
        "id": "SCSmIZzzVApK"
      },
      "source": [
        ""
      ],
      "execution_count": null,
      "outputs": []
    },
    {
      "cell_type": "code",
      "metadata": {
        "id": "nG0xup_wVAiX"
      },
      "source": [
        ""
      ],
      "execution_count": null,
      "outputs": []
    },
    {
      "cell_type": "code",
      "metadata": {
        "id": "zuQAhQQRRrFC"
      },
      "source": [
        ""
      ],
      "execution_count": null,
      "outputs": []
    },
    {
      "cell_type": "code",
      "metadata": {
        "id": "JIONbRANVIK-"
      },
      "source": [
        ""
      ],
      "execution_count": null,
      "outputs": []
    },
    {
      "cell_type": "code",
      "metadata": {
        "id": "5Z01pdEYVIaX"
      },
      "source": [
        ""
      ],
      "execution_count": null,
      "outputs": []
    },
    {
      "cell_type": "code",
      "metadata": {
        "id": "i6nmH6kSVItO"
      },
      "source": [
        ""
      ],
      "execution_count": null,
      "outputs": []
    },
    {
      "cell_type": "code",
      "metadata": {
        "id": "DXqzKnnGVJLB"
      },
      "source": [
        ""
      ],
      "execution_count": null,
      "outputs": []
    },
    {
      "cell_type": "code",
      "metadata": {
        "id": "_UIT4kfFVW9l"
      },
      "source": [
        ""
      ],
      "execution_count": null,
      "outputs": []
    },
    {
      "cell_type": "code",
      "metadata": {
        "id": "yfSvQfxTVXAA"
      },
      "source": [
        ""
      ],
      "execution_count": null,
      "outputs": []
    },
    {
      "cell_type": "code",
      "metadata": {
        "id": "LqYt65vUVXCi"
      },
      "source": [
        ""
      ],
      "execution_count": null,
      "outputs": []
    },
    {
      "cell_type": "code",
      "metadata": {
        "id": "iib1sa4zVXFN"
      },
      "source": [
        ""
      ],
      "execution_count": null,
      "outputs": []
    },
    {
      "cell_type": "code",
      "metadata": {
        "id": "px3-Ys1dVXH5"
      },
      "source": [
        ""
      ],
      "execution_count": null,
      "outputs": []
    },
    {
      "cell_type": "code",
      "metadata": {
        "id": "Mw8-DZ3dVXWn"
      },
      "source": [
        ""
      ],
      "execution_count": null,
      "outputs": []
    },
    {
      "cell_type": "code",
      "metadata": {
        "id": "xZWSsk2tVXqY"
      },
      "source": [
        ""
      ],
      "execution_count": null,
      "outputs": []
    },
    {
      "cell_type": "code",
      "metadata": {
        "id": "G0UfOLnlVXoO"
      },
      "source": [
        ""
      ],
      "execution_count": null,
      "outputs": []
    },
    {
      "cell_type": "code",
      "metadata": {
        "id": "I_OTrVWJVXmp"
      },
      "source": [
        ""
      ],
      "execution_count": null,
      "outputs": []
    },
    {
      "cell_type": "code",
      "metadata": {
        "id": "jUWYEPMwVXkm"
      },
      "source": [
        ""
      ],
      "execution_count": null,
      "outputs": []
    },
    {
      "cell_type": "code",
      "metadata": {
        "id": "Op_XE4ZmVXi5"
      },
      "source": [
        ""
      ],
      "execution_count": null,
      "outputs": []
    },
    {
      "cell_type": "code",
      "metadata": {
        "id": "YmKTd_lKVXg-"
      },
      "source": [
        ""
      ],
      "execution_count": null,
      "outputs": []
    },
    {
      "cell_type": "code",
      "metadata": {
        "id": "6loOfpcgVXe7"
      },
      "source": [
        ""
      ],
      "execution_count": null,
      "outputs": []
    },
    {
      "cell_type": "code",
      "metadata": {
        "id": "K2RBY9h8VXc-"
      },
      "source": [
        ""
      ],
      "execution_count": null,
      "outputs": []
    },
    {
      "cell_type": "code",
      "metadata": {
        "id": "lLlpJi6wVXSG"
      },
      "source": [
        ""
      ],
      "execution_count": null,
      "outputs": []
    },
    {
      "cell_type": "code",
      "metadata": {
        "id": "xUjbFz_MVXPd"
      },
      "source": [
        ""
      ],
      "execution_count": null,
      "outputs": []
    },
    {
      "cell_type": "code",
      "metadata": {
        "id": "H6RkYTjLVXNE"
      },
      "source": [
        ""
      ],
      "execution_count": null,
      "outputs": []
    },
    {
      "cell_type": "code",
      "metadata": {
        "id": "XTff7CFCVJHR"
      },
      "source": [
        ""
      ],
      "execution_count": null,
      "outputs": []
    },
    {
      "cell_type": "code",
      "metadata": {
        "id": "13s3czfSVJFo"
      },
      "source": [
        ""
      ],
      "execution_count": null,
      "outputs": []
    },
    {
      "cell_type": "code",
      "metadata": {
        "id": "qWnCHg8lVJCp"
      },
      "source": [
        ""
      ],
      "execution_count": null,
      "outputs": []
    },
    {
      "cell_type": "code",
      "metadata": {
        "id": "0niX7LwxVJAD"
      },
      "source": [
        ""
      ],
      "execution_count": null,
      "outputs": []
    },
    {
      "cell_type": "code",
      "metadata": {
        "id": "8waFUaCvVI-o"
      },
      "source": [
        ""
      ],
      "execution_count": null,
      "outputs": []
    },
    {
      "cell_type": "code",
      "metadata": {
        "id": "Ga7CfRe_VI9J"
      },
      "source": [
        ""
      ],
      "execution_count": null,
      "outputs": []
    },
    {
      "cell_type": "code",
      "metadata": {
        "id": "m0mAeYPyVI7O"
      },
      "source": [
        ""
      ],
      "execution_count": null,
      "outputs": []
    },
    {
      "cell_type": "code",
      "metadata": {
        "id": "kB-giZrGVI5p"
      },
      "source": [
        ""
      ],
      "execution_count": null,
      "outputs": []
    },
    {
      "cell_type": "code",
      "metadata": {
        "id": "Wg4ttl5IVI4h"
      },
      "source": [
        ""
      ],
      "execution_count": null,
      "outputs": []
    },
    {
      "cell_type": "code",
      "metadata": {
        "id": "ctZ6gwusVI3H"
      },
      "source": [
        ""
      ],
      "execution_count": null,
      "outputs": []
    },
    {
      "cell_type": "code",
      "metadata": {
        "id": "4HDimLxHVIyK"
      },
      "source": [
        ""
      ],
      "execution_count": null,
      "outputs": []
    },
    {
      "cell_type": "code",
      "metadata": {
        "id": "31LMYFugVIoh"
      },
      "source": [
        ""
      ],
      "execution_count": null,
      "outputs": []
    },
    {
      "cell_type": "code",
      "metadata": {
        "id": "6cLpnpUNVImh"
      },
      "source": [
        ""
      ],
      "execution_count": null,
      "outputs": []
    },
    {
      "cell_type": "code",
      "metadata": {
        "id": "zerSahh7VIlA"
      },
      "source": [
        ""
      ],
      "execution_count": null,
      "outputs": []
    },
    {
      "cell_type": "code",
      "metadata": {
        "id": "_eVKTXILVIip"
      },
      "source": [
        ""
      ],
      "execution_count": null,
      "outputs": []
    },
    {
      "cell_type": "code",
      "metadata": {
        "id": "f7vOHMKwVIgd"
      },
      "source": [
        ""
      ],
      "execution_count": null,
      "outputs": []
    },
    {
      "cell_type": "code",
      "metadata": {
        "id": "S6jKk1JfVIWI"
      },
      "source": [
        ""
      ],
      "execution_count": null,
      "outputs": []
    },
    {
      "cell_type": "code",
      "metadata": {
        "id": "_e7bnaEnVITz"
      },
      "source": [
        ""
      ],
      "execution_count": null,
      "outputs": []
    },
    {
      "cell_type": "code",
      "metadata": {
        "id": "61XOpUt7VIRL"
      },
      "source": [
        ""
      ],
      "execution_count": null,
      "outputs": []
    },
    {
      "cell_type": "code",
      "metadata": {
        "id": "3SnO0QluVIOy"
      },
      "source": [
        ""
      ],
      "execution_count": null,
      "outputs": []
    },
    {
      "cell_type": "code",
      "metadata": {
        "id": "EfWcaYrQX3N0"
      },
      "source": [
        ""
      ],
      "execution_count": null,
      "outputs": []
    },
    {
      "cell_type": "code",
      "metadata": {
        "id": "by2SuKSMX3Wr"
      },
      "source": [
        ""
      ],
      "execution_count": null,
      "outputs": []
    },
    {
      "cell_type": "code",
      "metadata": {
        "id": "goIycfpOX3Uu"
      },
      "source": [
        ""
      ],
      "execution_count": null,
      "outputs": []
    },
    {
      "cell_type": "code",
      "metadata": {
        "id": "wS9O1OQMX3SV"
      },
      "source": [
        ""
      ],
      "execution_count": null,
      "outputs": []
    },
    {
      "cell_type": "code",
      "metadata": {
        "id": "T6zRQZIUX3Ii"
      },
      "source": [
        ""
      ],
      "execution_count": null,
      "outputs": []
    },
    {
      "cell_type": "code",
      "metadata": {
        "id": "w9IaIFdXX3Gj"
      },
      "source": [
        ""
      ],
      "execution_count": null,
      "outputs": []
    },
    {
      "cell_type": "code",
      "metadata": {
        "id": "bKoowQ4oX3EW"
      },
      "source": [
        ""
      ],
      "execution_count": null,
      "outputs": []
    },
    {
      "cell_type": "code",
      "metadata": {
        "id": "npO-pYlLX3Bs"
      },
      "source": [
        ""
      ],
      "execution_count": null,
      "outputs": []
    },
    {
      "cell_type": "code",
      "metadata": {
        "id": "BuONppelVIHU"
      },
      "source": [
        ""
      ],
      "execution_count": null,
      "outputs": []
    },
    {
      "cell_type": "code",
      "metadata": {
        "id": "9ZgUOs77SFz8"
      },
      "source": [
        ""
      ],
      "execution_count": null,
      "outputs": []
    },
    {
      "cell_type": "code",
      "metadata": {
        "id": "5Y5a-e0n-kSY"
      },
      "source": [
        ""
      ],
      "execution_count": null,
      "outputs": []
    }
  ]
}